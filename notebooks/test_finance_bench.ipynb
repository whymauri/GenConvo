{
 "cells": [
  {
   "cell_type": "code",
   "execution_count": 1,
   "id": "40ecbd4c",
   "metadata": {},
   "outputs": [],
   "source": [
    "from genconvo.data.finance import load_finance"
   ]
  },
  {
   "cell_type": "code",
   "execution_count": 2,
   "id": "3434fb69",
   "metadata": {},
   "outputs": [
    {
     "name": "stderr",
     "output_type": "stream",
     "text": [
      "/Users/mauri/research/GenConvo/.venv/lib/python3.12/site-packages/tqdm/auto.py:21: TqdmWarning: IProgress not found. Please update jupyter and ipywidgets. See https://ipywidgets.readthedocs.io/en/stable/user_install.html\n",
      "  from .autonotebook import tqdm as notebook_tqdm\n",
      "`trust_remote_code` is not supported anymore.\n",
      "Please check that the Hugging Face dataset 'PatronusAI/financebench' isn't based on a loading script and remove `trust_remote_code`.\n",
      "If the dataset is based on a loading script, please ask the dataset author to remove it and convert it to a standard format like Parquet.\n"
     ]
    },
    {
     "name": "stdout",
     "output_type": "stream",
     "text": [
      "Saving datasets ['AMD_2022_10K'] to /Users/mauri/.cache/huggingface/datasets/PatronusAI___financebench/default/0.0.0/e04404e3a97f69f79c14d42f24981a1c9c3bcd18/bench_with_pdfs.feather.\n"
     ]
    }
   ],
   "source": [
    "test = load_finance(doc_names=[\"AMD_2022_10K\"])"
   ]
  },
  {
   "cell_type": "code",
   "execution_count": 3,
   "id": "0ed07851-454f-4e4d-b321-7830e1c6860b",
   "metadata": {},
   "outputs": [],
   "source": [
    "haystack = test['md_text'][31]"
   ]
  },
  {
   "cell_type": "code",
   "execution_count": 4,
   "id": "5f68a1f3-74fa-4d16-a273-2cd99394c494",
   "metadata": {
    "scrolled": true
   },
   "outputs": [
    {
     "data": {
      "text/plain": [
       "' T. Su_\\n\\nLisa T. Su\\nChair, President and Chief Executive Officer\\n(Principal Executive Officer)\\n\\n\\nExhibit 32.2\\n\\n\\n**Certification of Principal Financial Officer Pursuant to Section 906 of the Sarbanes-Oxley Act of 2002**\\n\\n\\nPursuant to 18 U.S.C. § 1350, as adopted pursuant to Section 906 of the Sarbanes-Oxley Act of 2002, the undersigned officer of Advanced Micro\\nDevices, Inc. (the \"Company\") hereby certifies, to such officer\\'s knowledge, that:\\n\\n\\n(i.) the Annual Report on Form 10-K of the Company for the period ended December 31, 2022 (the \"Report\") fully complies with the\\nrequirements of Section 13(a) or Section 15(d), as applicable, of the Securities Exchange Act of 1934, as amended; and\\n\\n\\n(ii.) the information contained in the Report fairly presents, in all material respects, the financial condition and results of operations of the\\nCompany.\\n\\n\\nDate:  February 27, 2023\\n\\n\\n_/s/Jean Hu_\\n\\nJean Hu\\nExecutive Vice President,\\nChief Financial Officer and Treasurer\\n(Principal Financial Officer)\\n\\n\\n'"
      ]
     },
     "execution_count": 4,
     "metadata": {},
     "output_type": "execute_result"
    }
   ],
   "source": [
    "# Take a peak\n",
    "haystack[-1000:]"
   ]
  },
  {
   "cell_type": "code",
   "execution_count": 5,
   "id": "ccb88f24-8148-4590-aee1-292eccc0ccfb",
   "metadata": {},
   "outputs": [],
   "source": [
    "# Manually: https://ir.amd.com/financial-information/sec-filings/content/0000002488-23-000047/0000002488-23-000047.pdf\n",
    "\n",
    "needles = [\n",
    "    \"Registration Statement on Form S-8 (No. 333-115474) pertaining to the Advanced Micro Devices, Inc. 2004 Equity Incentive Plan\",\n",
    "    \"On January 3, 2023, we issued warrants to purchase 300,260 shares of our common stock to a commercial partner pursuant to a strategic arrangement\",\n",
    "    \"Our AMD Radeon RX 7900 XTX and Radeon RX 7900 XT graphics cards are built on high-performance, energy-efficient AMD RDNA 3 architecture. AMD\"\n",
    "]"
   ]
  },
  {
   "cell_type": "code",
   "execution_count": 7,
   "id": "8a832a5f-5fbd-4e46-ab36-4a80f949435a",
   "metadata": {},
   "outputs": [],
   "source": [
    "for needle in needles:\n",
    "    assert needle in haystack"
   ]
  },
  {
   "cell_type": "code",
   "execution_count": 8,
   "id": "262f1c25-c156-4b2f-8743-df47cd0a0f1e",
   "metadata": {},
   "outputs": [],
   "source": [
    "from pathlib import Path\n",
    "\n",
    "dataset_dir = Path(\"/Users/mauri/.cache/huggingface/datasets/PatronusAI___financebench/default/0.0.0/e04404e3a97f69f79c14d42f24981a1c9c3bcd18/\")"
   ]
  },
  {
   "cell_type": "code",
   "execution_count": 9,
   "id": "cb2ddf45-f668-43fa-b274-11d6aa2b4006",
   "metadata": {},
   "outputs": [],
   "source": [
    "write_to = dataset_dir / \"AMD_2022_10K.txt\""
   ]
  },
  {
   "cell_type": "code",
   "execution_count": null,
   "id": "5ec85f00-9067-436a-8a98-ebc58070cf84",
   "metadata": {},
   "outputs": [],
   "source": []
  }
 ],
 "metadata": {
  "kernelspec": {
   "display_name": "Python (uv genconvo)",
   "language": "python",
   "name": "genconvo-uv"
  },
  "language_info": {
   "codemirror_mode": {
    "name": "ipython",
    "version": 3
   },
   "file_extension": ".py",
   "mimetype": "text/x-python",
   "name": "python",
   "nbconvert_exporter": "python",
   "pygments_lexer": "ipython3",
   "version": "3.12.11"
  }
 },
 "nbformat": 4,
 "nbformat_minor": 5
}
