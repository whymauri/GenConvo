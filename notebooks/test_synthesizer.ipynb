{
 "cells": [
  {
   "cell_type": "code",
   "execution_count": 1,
   "id": "922b6652-a5c4-451e-a0ea-1de9dd684afc",
   "metadata": {},
   "outputs": [],
   "source": [
    "from genconvo.synthesizer import GenConvoSynthesizer"
   ]
  },
  {
   "cell_type": "code",
   "execution_count": 2,
   "id": "33b4aa4c-4253-44f1-918b-a25ab35af895",
   "metadata": {},
   "outputs": [],
   "source": [
    "from genconvo.data.finance import FINANCE_BENCH_PATH"
   ]
  },
  {
   "cell_type": "code",
   "execution_count": 3,
   "id": "77038a85-03a7-464e-965c-2a3342db883d",
   "metadata": {},
   "outputs": [],
   "source": [
    "# GEN_CONVO_PROMPT_REGISTRY = {\n",
    "#     \"factual\": FACTUAL_PROMPT,  # Used in the paper\n",
    "#     \"knowledge\": KNOWLEDGE_PROMPT,\n",
    "#     \"disjoint\": DISJOINT_PROMPT,  # Used in the paper\n",
    "#     \"synthesized\": SYNTHESIZED_PROMPT,  # Used in the paper\n",
    "#     \"structured\": STRUCTURED_PROMPT,  # Used in the paper\n",
    "#     \"creative\": CREATIVE_PROMPT,  # Used in the paper\n",
    "#     \"counting\": COUNTING_PROMPT,\n",
    "#     \"reasoning\": REASONING_PROMPT,  # Used in the paper\n",
    "# }"
   ]
  },
  {
   "cell_type": "code",
   "execution_count": 5,
   "id": "2650f76b-78ed-4645-8c6b-4977228e14d0",
   "metadata": {},
   "outputs": [],
   "source": [
    "PROMPT_TYPE = \"reasoning\"\n",
    "N_ROLLOUTS = 1"
   ]
  },
  {
   "cell_type": "code",
   "execution_count": 6,
   "id": "0914452c-f3b8-4511-ac25-ea84af908f59",
   "metadata": {},
   "outputs": [],
   "source": [
    "synthesizer = GenConvoSynthesizer(\n",
    "    dataset_directory=str(FINANCE_BENCH_PATH),\n",
    "    filename=\"AMD_2022_10K.md\",\n",
    "    prompt_type=PROMPT_TYPE,\n",
    "    num_questions=N_ROLLOUTS,\n",
    "    model_name=\"claude-sonnet-4-20250514\", # \"claude-3-haiku-20240307\" but I like Sonnet for testing due to the rate limits.\n",
    "    max_workers=N_ROLLOUTS,\n",
    "    temperature=0.7,\n",
    ")"
   ]
  },
  {
   "cell_type": "code",
   "execution_count": 7,
   "id": "b629fe9c-4bdd-4759-aa13-02ece19e378a",
   "metadata": {},
   "outputs": [
    {
     "data": {
      "application/vnd.jupyter.widget-view+json": {
       "model_id": "2d99a9faca494b9fbdc9b0e6553b18e8",
       "version_major": 2,
       "version_minor": 0
      },
      "text/plain": [
       "Output()"
      ]
     },
     "metadata": {},
     "output_type": "display_data"
    },
    {
     "data": {
      "text/html": [
       "<pre style=\"white-space:pre;overflow-x:auto;line-height:normal;font-family:Menlo,'DejaVu Sans Mono',consolas,'Courier New',monospace\"></pre>\n"
      ],
      "text/plain": []
     },
     "metadata": {},
     "output_type": "display_data"
    },
    {
     "data": {
      "application/vnd.jupyter.widget-view+json": {
       "model_id": "eca334408dea41cd87ca3599bd768754",
       "version_major": 2,
       "version_minor": 0
      },
      "text/plain": [
       "Saving the dataset (0/1 shards):   0%|          | 0/16 [00:00<?, ? examples/s]"
      ]
     },
     "metadata": {},
     "output_type": "display_data"
    },
    {
     "name": "stdout",
     "output_type": "stream",
     "text": [
      "Saved 16 Q&A pairs to data/genconvo/factual_claude_sonnet_4_20250514_20250809_004210\n"
     ]
    }
   ],
   "source": [
    "results = synthesizer.run()"
   ]
  },
  {
   "cell_type": "code",
   "execution_count": 8,
   "id": "38663594-8f4c-418b-a1c3-d9455e15c64e",
   "metadata": {},
   "outputs": [
    {
     "data": {
      "text/plain": [
       "{'context': {'filename': 'AMD_2022_10K.md',\n",
       "  'dataset_directory': '/Users/mauri/.cache/huggingface/datasets/PatronusAI___financebench/default/0.0.0/e04404e3a97f69f79c14d42f24981a1c9c3bcd18',\n",
       "  'model': 'claude-sonnet-4-20250514',\n",
       "  'temperature': 0.7,\n",
       "  'prompt_type': 'factual'},\n",
       " 'results': ({'GenConvoBench-factual_root.block.unit[Unit].block.layer[5].unit[Unit]_answer': '$3.0 billion',\n",
       "   'GenConvoBench-factual_root.block.unit[Unit].block.layer[10].unit[Unit]_answer': 'The document does not specify the exact amount AMD paid to acquire Xilinx in February 2022. While the document mentions that the acquisition was completed in February 2022 and was described as \"transformative\" and \"strategic,\" it does not provide the specific purchase price or financial details of the transaction.',\n",
       "   'GenConvoBench-factual_root.block.unit[Unit].block.layer[13].unit[Unit]_answer': 'AMD can issue unsecured commercial paper notes up to a maximum principal amount outstanding at any time of $3.0 billion under its commercial paper program established in November 2022.',\n",
       "   'GenConvoBench-factual_root.block.unit[Unit].block.layer[0].unit[Unit]_answer': '001-07882',\n",
       "   'GenConvoBench-factual_root.block.unit[Unit].block.layer[8].unit[Unit]_answer': 'AMD repurchased 36,326,137 shares of common stock during fiscal year 2022.',\n",
       "   'GenConvoBench-factual_root.block.unit[Unit].block.layer[3].unit[Unit]_answer': '$25.4994 per share',\n",
       "   'GenConvoBench-factual_root.block.unit[Unit].block.layer[11].unit[Unit]_answer': \"The interest rate on AMD's 4.393% Senior Notes due 2052 is 4.393% per annum.\",\n",
       "   'GenConvoBench-factual_root.block.unit[Unit].block.layer[7].unit[Unit]_answer': 'June 1, 2032',\n",
       "   'GenConvoBench-factual_root.block.unit[Unit].block.layer[6].unit[Unit]_answer': 'The document states that \"One customer accounted for 16% of our consolidated net revenue for the year ended December 31, 2022. Sales to this customer consisted of sales of products from our Gaming segment.\" However, the specific name of this customer is not disclosed in the document.',\n",
       "   'GenConvoBench-factual_root.block.unit[Unit].block.layer[14].unit[Unit]_answer': 'AMD was incorporated under Delaware law on May 1, 1969.',\n",
       "   'GenConvoBench-factual_root.block.unit[Unit].block.layer[15].unit[Unit]_answer': \"AMD's net revenue increased by 44% in 2022 compared to 2021. Net revenue for 2022 was $23.6 billion, an increase from 2021 net revenue of $16.4 billion.\",\n",
       "   'GenConvoBench-factual_root.block.unit[Unit].block.layer[1].unit[Unit]_answer': 'As of December 31, 2022, AMD had approximately 8,200 patents in the United States.',\n",
       "   'GenConvoBench-factual_root.block.unit[Unit].block.layer[9].unit[Unit]_answer': \"AMD's principal executive offices are located at 2485 Augustine Drive, Santa Clara, California 95054.\",\n",
       "   'GenConvoBench-factual_root.block.unit[Unit].block.layer[4].unit[Unit]_answer': 'As of December 31, 2022, AMD had approximately 25,000 employees in its global workforce.',\n",
       "   'GenConvoBench-factual_root.block.unit[Unit].block.layer[12].unit[Unit]_answer': 'As of December 31, 2022, AMD has 6 million square feet of space for research and development, engineering, administrative and warehouse use throughout the world.',\n",
       "   'GenConvoBench-factual_root.block.unit[Unit]_document': '[. . .]',\n",
       "   'GenConvoBench-factual_root.block.unit[Unit]_questions': [\"What is AMD's Commission File Number with the SEC?\",\n",
       "    'How many patents does AMD have in the United States as of December 31, 2022?',\n",
       "    \"What percentage of AMD's net revenue came from international sales in 2022?\",\n",
       "    'What is the exercise price of the warrants AMD issued on January 3, 2023?',\n",
       "    'How many employees did AMD have in its global workforce as of December 31, 2022?',\n",
       "    \"What is the aggregate principal amount of AMD's revolving credit facility established in June 2022?\",\n",
       "    \"Which customer accounted for 16% of AMD's consolidated net revenue in 2022?\",\n",
       "    \"What is the maturity date of AMD's 3.924% Senior Notes?\",\n",
       "    'How many shares of common stock did AMD repurchase during fiscal year 2022?',\n",
       "    \"What is the address of AMD's principal executive offices?\",\n",
       "    'How much did AMD pay to acquire Xilinx in February 2022?',\n",
       "    \"What is the interest rate on AMD's 4.393% Senior Notes due 2052?\",\n",
       "    'How many square feet of space does AMD have for operations as of December 31, 2022?',\n",
       "    'What is the maximum principal amount AMD can issue under its commercial paper program?',\n",
       "    'In which year was AMD incorporated under Delaware law?',\n",
       "    \"What percentage did AMD's net revenue increase in 2022 compared to 2021?\"],\n",
       "   'GenConvoBench-factual_root.block.unit[Unit].block.layer[2].unit[Unit]_answer': \"66% of AMD's net revenue came from international sales in 2022.\",\n",
       "   'GenConvoBench-factual_root.block.layer[0].block.unit[Unit]_document': '[. . .]',\n",
       "   'GenConvoBench-factual_root.block.layer[1].block.unit[Unit]_document': '[. . .]',\n",
       "   'GenConvoBench-factual_root.block.layer[2].block.unit[Unit]_document': '[. . .]',\n",
       "   'GenConvoBench-factual_root.block.layer[3].block.unit[Unit]_document': '[. . .]',\n",
       "   'GenConvoBench-factual_root.block.layer[4].block.unit[Unit]_document': '[. . .]',\n",
       "   'GenConvoBench-factual_root.block.layer[5].block.unit[Unit]_document': '[. . .]',\n",
       "   'GenConvoBench-factual_root.block.layer[6].block.unit[Unit]_document': '[. . .]',\n",
       "   'GenConvoBench-factual_root.block.layer[7].block.unit[Unit]_document': '[. . .]',\n",
       "   'GenConvoBench-factual_root.block.layer[8].block.unit[Unit]_document': '[. . .]',\n",
       "   'GenConvoBench-factual_root.block.layer[9].block.unit[Unit]_document': '[. . .]',\n",
       "   'GenConvoBench-factual_root.block.layer[10].block.unit[Unit]_document': '[. . .]',\n",
       "   'GenConvoBench-factual_root.block.layer[11].block.unit[Unit]_document': '[. . .]',\n",
       "   'GenConvoBench-factual_root.block.layer[12].block.unit[Unit]_document': '[. . .]',\n",
       "   'GenConvoBench-factual_root.block.layer[13].block.unit[Unit]_document': '[. . .]',\n",
       "   'GenConvoBench-factual_root.block.layer[14].block.unit[Unit]_document': '[. . .]',\n",
       "   'GenConvoBench-factual_root.block.layer[15].block.unit[Unit]_document': '[. . .]'},\n",
       "  ['GenConvoBench-factual_root.block.unit[Unit].block.layer[0].unit[Unit]_answer',\n",
       "   'GenConvoBench-factual_root.block.unit[Unit].block.layer[10].unit[Unit]_answer',\n",
       "   'GenConvoBench-factual_root.block.unit[Unit].block.layer[11].unit[Unit]_answer',\n",
       "   'GenConvoBench-factual_root.block.unit[Unit].block.layer[12].unit[Unit]_answer',\n",
       "   'GenConvoBench-factual_root.block.unit[Unit].block.layer[13].unit[Unit]_answer',\n",
       "   'GenConvoBench-factual_root.block.unit[Unit].block.layer[14].unit[Unit]_answer',\n",
       "   'GenConvoBench-factual_root.block.unit[Unit].block.layer[15].unit[Unit]_answer',\n",
       "   'GenConvoBench-factual_root.block.unit[Unit].block.layer[1].unit[Unit]_answer',\n",
       "   'GenConvoBench-factual_root.block.unit[Unit].block.layer[2].unit[Unit]_answer',\n",
       "   'GenConvoBench-factual_root.block.unit[Unit].block.layer[3].unit[Unit]_answer',\n",
       "   'GenConvoBench-factual_root.block.unit[Unit].block.layer[4].unit[Unit]_answer',\n",
       "   'GenConvoBench-factual_root.block.unit[Unit].block.layer[5].unit[Unit]_answer',\n",
       "   'GenConvoBench-factual_root.block.unit[Unit].block.layer[6].unit[Unit]_answer',\n",
       "   'GenConvoBench-factual_root.block.unit[Unit].block.layer[7].unit[Unit]_answer',\n",
       "   'GenConvoBench-factual_root.block.unit[Unit].block.layer[8].unit[Unit]_answer',\n",
       "   'GenConvoBench-factual_root.block.unit[Unit].block.layer[9].unit[Unit]_answer']),\n",
       " 'qa_pairs': [QAPair(run_id='20250809_004210', prompt_type='factual', question=\"What is AMD's Commission File Number with the SEC?\", answer='001-07882', model='claude-sonnet-4-20250514', temperature=0.7, filename='AMD_2022_10K.md', document_hash='176c56df963a736f2991edec4d727ce6', layer_index=0, timestamp='2025-08-09T00:42:10.545241'),\n",
       "  QAPair(run_id='20250809_004210', prompt_type='factual', question='How many patents does AMD have in the United States as of December 31, 2022?', answer='The document does not specify the exact amount AMD paid to acquire Xilinx in February 2022. While the document mentions that the acquisition was completed in February 2022 and was described as \"transformative\" and \"strategic,\" it does not provide the specific purchase price or financial details of the transaction.', model='claude-sonnet-4-20250514', temperature=0.7, filename='AMD_2022_10K.md', document_hash='176c56df963a736f2991edec4d727ce6', layer_index=1, timestamp='2025-08-09T00:42:10.545248'),\n",
       "  QAPair(run_id='20250809_004210', prompt_type='factual', question=\"What percentage of AMD's net revenue came from international sales in 2022?\", answer=\"The interest rate on AMD's 4.393% Senior Notes due 2052 is 4.393% per annum.\", model='claude-sonnet-4-20250514', temperature=0.7, filename='AMD_2022_10K.md', document_hash='176c56df963a736f2991edec4d727ce6', layer_index=2, timestamp='2025-08-09T00:42:10.545250'),\n",
       "  QAPair(run_id='20250809_004210', prompt_type='factual', question='What is the exercise price of the warrants AMD issued on January 3, 2023?', answer='As of December 31, 2022, AMD has 6 million square feet of space for research and development, engineering, administrative and warehouse use throughout the world.', model='claude-sonnet-4-20250514', temperature=0.7, filename='AMD_2022_10K.md', document_hash='176c56df963a736f2991edec4d727ce6', layer_index=3, timestamp='2025-08-09T00:42:10.545251'),\n",
       "  QAPair(run_id='20250809_004210', prompt_type='factual', question='How many employees did AMD have in its global workforce as of December 31, 2022?', answer='AMD can issue unsecured commercial paper notes up to a maximum principal amount outstanding at any time of $3.0 billion under its commercial paper program established in November 2022.', model='claude-sonnet-4-20250514', temperature=0.7, filename='AMD_2022_10K.md', document_hash='176c56df963a736f2991edec4d727ce6', layer_index=4, timestamp='2025-08-09T00:42:10.545252'),\n",
       "  QAPair(run_id='20250809_004210', prompt_type='factual', question=\"What is the aggregate principal amount of AMD's revolving credit facility established in June 2022?\", answer='AMD was incorporated under Delaware law on May 1, 1969.', model='claude-sonnet-4-20250514', temperature=0.7, filename='AMD_2022_10K.md', document_hash='176c56df963a736f2991edec4d727ce6', layer_index=5, timestamp='2025-08-09T00:42:10.545253'),\n",
       "  QAPair(run_id='20250809_004210', prompt_type='factual', question=\"Which customer accounted for 16% of AMD's consolidated net revenue in 2022?\", answer=\"AMD's net revenue increased by 44% in 2022 compared to 2021. Net revenue for 2022 was $23.6 billion, an increase from 2021 net revenue of $16.4 billion.\", model='claude-sonnet-4-20250514', temperature=0.7, filename='AMD_2022_10K.md', document_hash='176c56df963a736f2991edec4d727ce6', layer_index=6, timestamp='2025-08-09T00:42:10.545254'),\n",
       "  QAPair(run_id='20250809_004210', prompt_type='factual', question=\"What is the maturity date of AMD's 3.924% Senior Notes?\", answer='As of December 31, 2022, AMD had approximately 8,200 patents in the United States.', model='claude-sonnet-4-20250514', temperature=0.7, filename='AMD_2022_10K.md', document_hash='176c56df963a736f2991edec4d727ce6', layer_index=7, timestamp='2025-08-09T00:42:10.545255'),\n",
       "  QAPair(run_id='20250809_004210', prompt_type='factual', question='How many shares of common stock did AMD repurchase during fiscal year 2022?', answer=\"66% of AMD's net revenue came from international sales in 2022.\", model='claude-sonnet-4-20250514', temperature=0.7, filename='AMD_2022_10K.md', document_hash='176c56df963a736f2991edec4d727ce6', layer_index=8, timestamp='2025-08-09T00:42:10.545256'),\n",
       "  QAPair(run_id='20250809_004210', prompt_type='factual', question=\"What is the address of AMD's principal executive offices?\", answer='$25.4994 per share', model='claude-sonnet-4-20250514', temperature=0.7, filename='AMD_2022_10K.md', document_hash='176c56df963a736f2991edec4d727ce6', layer_index=9, timestamp='2025-08-09T00:42:10.545257'),\n",
       "  QAPair(run_id='20250809_004210', prompt_type='factual', question='How much did AMD pay to acquire Xilinx in February 2022?', answer='As of December 31, 2022, AMD had approximately 25,000 employees in its global workforce.', model='claude-sonnet-4-20250514', temperature=0.7, filename='AMD_2022_10K.md', document_hash='176c56df963a736f2991edec4d727ce6', layer_index=10, timestamp='2025-08-09T00:42:10.545258'),\n",
       "  QAPair(run_id='20250809_004210', prompt_type='factual', question=\"What is the interest rate on AMD's 4.393% Senior Notes due 2052?\", answer='$3.0 billion', model='claude-sonnet-4-20250514', temperature=0.7, filename='AMD_2022_10K.md', document_hash='176c56df963a736f2991edec4d727ce6', layer_index=11, timestamp='2025-08-09T00:42:10.545259'),\n",
       "  QAPair(run_id='20250809_004210', prompt_type='factual', question='How many square feet of space does AMD have for operations as of December 31, 2022?', answer='The document states that \"One customer accounted for 16% of our consolidated net revenue for the year ended December 31, 2022. Sales to this customer consisted of sales of products from our Gaming segment.\" However, the specific name of this customer is not disclosed in the document.', model='claude-sonnet-4-20250514', temperature=0.7, filename='AMD_2022_10K.md', document_hash='176c56df963a736f2991edec4d727ce6', layer_index=12, timestamp='2025-08-09T00:42:10.545260'),\n",
       "  QAPair(run_id='20250809_004210', prompt_type='factual', question='What is the maximum principal amount AMD can issue under its commercial paper program?', answer='June 1, 2032', model='claude-sonnet-4-20250514', temperature=0.7, filename='AMD_2022_10K.md', document_hash='176c56df963a736f2991edec4d727ce6', layer_index=13, timestamp='2025-08-09T00:42:10.545261'),\n",
       "  QAPair(run_id='20250809_004210', prompt_type='factual', question='In which year was AMD incorporated under Delaware law?', answer='AMD repurchased 36,326,137 shares of common stock during fiscal year 2022.', model='claude-sonnet-4-20250514', temperature=0.7, filename='AMD_2022_10K.md', document_hash='176c56df963a736f2991edec4d727ce6', layer_index=14, timestamp='2025-08-09T00:42:10.545262'),\n",
       "  QAPair(run_id='20250809_004210', prompt_type='factual', question=\"What percentage did AMD's net revenue increase in 2022 compared to 2021?\", answer=\"AMD's principal executive offices are located at 2485 Augustine Drive, Santa Clara, California 95054.\", model='claude-sonnet-4-20250514', temperature=0.7, filename='AMD_2022_10K.md', document_hash='176c56df963a736f2991edec4d727ce6', layer_index=15, timestamp='2025-08-09T00:42:10.545263')],\n",
       " 'dataset_path': 'data/genconvo/factual_claude_sonnet_4_20250514_20250809_004210',\n",
       " 'total_questions': 16}"
      ]
     },
     "execution_count": 8,
     "metadata": {},
     "output_type": "execute_result"
    }
   ],
   "source": [
    "document_keys = [\n",
    "    f\"GenConvoBench-{PROMPT_TYPE}_root.block.layer[{i}].block.unit[Unit]_document\" for i in range(N_ROLLOUTS)\n",
    "]\n",
    "\n",
    "for k in document_keys:\n",
    "    results['results'][0][k] = \"[. . .]\"\n",
    "results['results'][0][f'GenConvoBench-{PROMPT_TYPE}_root.block.unit[Unit]_document'] = \"[. . .]\"\n",
    "results"
   ]
  },
  {
   "cell_type": "code",
   "execution_count": 9,
   "id": "50d02d55-5d6b-4663-a596-84e6a0c67256",
   "metadata": {},
   "outputs": [],
   "source": [
    "question_key = f'GenConvoBench-{PROMPT_TYPE}_root.block.unit[Unit]_questions'\n",
    "qs = results['results'][0][question_key]"
   ]
  },
  {
   "cell_type": "code",
   "execution_count": 10,
   "id": "6408fbc8-0f31-480f-9d24-b32134c1c1ca",
   "metadata": {},
   "outputs": [],
   "source": [
    "answer_keys = [\n",
    "    f'GenConvoBench-{PROMPT_TYPE}_root.block.unit[Unit].block.layer[{i}].unit[Unit]_answer' for i in range(N_ROLLOUTS)\n",
    "]"
   ]
  },
  {
   "cell_type": "code",
   "execution_count": 11,
   "id": "74309ba2-5c57-4787-ac77-4d34cb348dd6",
   "metadata": {},
   "outputs": [
    {
     "name": "stdout",
     "output_type": "stream",
     "text": [
      "Question: What is AMD's Commission File Number with the SEC? \n",
      "\t Answer: 001-07882\n",
      "\n",
      "Question: How many patents does AMD have in the United States as of December 31, 2022? \n",
      "\t Answer: As of December 31, 2022, AMD had approximately 8,200 patents in the United States.\n",
      "\n",
      "Question: What percentage of AMD's net revenue came from international sales in 2022? \n",
      "\t Answer: 66% of AMD's net revenue came from international sales in 2022.\n",
      "\n",
      "Question: What is the exercise price of the warrants AMD issued on January 3, 2023? \n",
      "\t Answer: $25.4994 per share\n",
      "\n",
      "Question: How many employees did AMD have in its global workforce as of December 31, 2022? \n",
      "\t Answer: As of December 31, 2022, AMD had approximately 25,000 employees in its global workforce.\n",
      "\n",
      "Question: What is the aggregate principal amount of AMD's revolving credit facility established in June 2022? \n",
      "\t Answer: $3.0 billion\n",
      "\n",
      "Question: Which customer accounted for 16% of AMD's consolidated net revenue in 2022? \n",
      "\t Answer: The document states that \"One customer accounted for 16% of our consolidated net revenue for the year ended December 31, 2022. Sales to this customer consisted of sales of products from our Gaming segment.\" However, the specific name of this customer is not disclosed in the document.\n",
      "\n",
      "Question: What is the maturity date of AMD's 3.924% Senior Notes? \n",
      "\t Answer: June 1, 2032\n",
      "\n",
      "Question: How many shares of common stock did AMD repurchase during fiscal year 2022? \n",
      "\t Answer: AMD repurchased 36,326,137 shares of common stock during fiscal year 2022.\n",
      "\n",
      "Question: What is the address of AMD's principal executive offices? \n",
      "\t Answer: AMD's principal executive offices are located at 2485 Augustine Drive, Santa Clara, California 95054.\n",
      "\n",
      "Question: How much did AMD pay to acquire Xilinx in February 2022? \n",
      "\t Answer: The document does not specify the exact amount AMD paid to acquire Xilinx in February 2022. While the document mentions that the acquisition was completed in February 2022 and was described as \"transformative\" and \"strategic,\" it does not provide the specific purchase price or financial details of the transaction.\n",
      "\n",
      "Question: What is the interest rate on AMD's 4.393% Senior Notes due 2052? \n",
      "\t Answer: The interest rate on AMD's 4.393% Senior Notes due 2052 is 4.393% per annum.\n",
      "\n",
      "Question: How many square feet of space does AMD have for operations as of December 31, 2022? \n",
      "\t Answer: As of December 31, 2022, AMD has 6 million square feet of space for research and development, engineering, administrative and warehouse use throughout the world.\n",
      "\n",
      "Question: What is the maximum principal amount AMD can issue under its commercial paper program? \n",
      "\t Answer: AMD can issue unsecured commercial paper notes up to a maximum principal amount outstanding at any time of $3.0 billion under its commercial paper program established in November 2022.\n",
      "\n",
      "Question: In which year was AMD incorporated under Delaware law? \n",
      "\t Answer: AMD was incorporated under Delaware law on May 1, 1969.\n",
      "\n",
      "Question: What percentage did AMD's net revenue increase in 2022 compared to 2021? \n",
      "\t Answer: AMD's net revenue increased by 44% in 2022 compared to 2021. Net revenue for 2022 was $23.6 billion, an increase from 2021 net revenue of $16.4 billion.\n",
      "\n"
     ]
    }
   ],
   "source": [
    "for q, a_k in zip(qs, answer_keys):\n",
    "    a = results['results'][0][a_k]\n",
    "    print(f\"Question: {q} \\n\\t Answer: {a}\\n\")"
   ]
  },
  {
   "cell_type": "code",
   "execution_count": null,
   "id": "350eb6fd-55c3-461f-8fdd-8266f951db94",
   "metadata": {},
   "outputs": [],
   "source": []
  }
 ],
 "metadata": {
  "kernelspec": {
   "display_name": "Python (uv genconvo)",
   "language": "python",
   "name": "genconvo-uv"
  },
  "language_info": {
   "codemirror_mode": {
    "name": "ipython",
    "version": 3
   },
   "file_extension": ".py",
   "mimetype": "text/x-python",
   "name": "python",
   "nbconvert_exporter": "python",
   "pygments_lexer": "ipython3",
   "version": "3.12.11"
  }
 },
 "nbformat": 4,
 "nbformat_minor": 5
}
