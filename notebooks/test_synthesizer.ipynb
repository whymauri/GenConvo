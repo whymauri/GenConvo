{
 "cells": [
  {
   "cell_type": "code",
   "execution_count": 1,
   "id": "922b6652-a5c4-451e-a0ea-1de9dd684afc",
   "metadata": {},
   "outputs": [],
   "source": [
    "from genconvo.synthesizer import GenConvoSynthesizer"
   ]
  },
  {
   "cell_type": "code",
   "execution_count": 2,
   "id": "33b4aa4c-4253-44f1-918b-a25ab35af895",
   "metadata": {},
   "outputs": [],
   "source": [
    "from genconvo.data.finance import FINANCE_BENCH_PATH"
   ]
  },
  {
   "cell_type": "code",
   "execution_count": 3,
   "id": "0914452c-f3b8-4511-ac25-ea84af908f59",
   "metadata": {},
   "outputs": [],
   "source": [
    "synthesizer = GenConvoSynthesizer(\n",
    "    dataset_directory=str(FINANCE_BENCH_PATH),\n",
    "    filename=\"AMD_2022_10K.md\",\n",
    "    prompt_type=\"factual\",  # Simple factual question\n",
    "    num_questions=1,  # Just 1 question for testing\n",
    "    model_name=\"claude-3-haiku-20240307\",\n",
    "    max_workers=1,  # Single worker for testing\n",
    "    temperature=0.7,\n",
    ")"
   ]
  },
  {
   "cell_type": "code",
   "execution_count": 4,
   "id": "b629fe9c-4bdd-4759-aa13-02ece19e378a",
   "metadata": {},
   "outputs": [
    {
     "data": {
      "application/vnd.jupyter.widget-view+json": {
       "model_id": "0b92d25d128549feb8f74e51c141aed3",
       "version_major": 2,
       "version_minor": 0
      },
      "text/plain": [
       "Output()"
      ]
     },
     "metadata": {},
     "output_type": "display_data"
    },
    {
     "data": {
      "text/html": [
       "<pre style=\"white-space:pre;overflow-x:auto;line-height:normal;font-family:Menlo,'DejaVu Sans Mono',consolas,'Courier New',monospace\"></pre>\n"
      ],
      "text/plain": []
     },
     "metadata": {},
     "output_type": "display_data"
    }
   ],
   "source": [
    "results = synthesizer.run()"
   ]
  },
  {
   "cell_type": "code",
   "execution_count": 5,
   "id": "38663594-8f4c-418b-a1c3-d9455e15c64e",
   "metadata": {},
   "outputs": [
    {
     "data": {
      "text/plain": [
       "{'context': {'filename': 'AMD_2022_10K.md',\n",
       "  'dataset_directory': '/Users/mauri/.cache/huggingface/datasets/PatronusAI___financebench/default/0.0.0/e04404e3a97f69f79c14d42f24981a1c9c3bcd18',\n",
       "  'model': 'claude-3-haiku-20240307',\n",
       "  'temperature': 0.7,\n",
       "  'prompt_type': 'factual'},\n",
       " 'results': ({'GenConvoBench-factual_root.block.layer[0].block.unit[Unit].block.unit[Unit]_answer': \"Lisa T. Su's title is President and Chief Executive Officer, Director.\",\n",
       "   'GenConvoBench-factual_root.block.layer[0].block.unit[Unit]_question': 'What is the title of Lisa T. Su?',\n",
       "   'GenConvoBench-factual_root.block.layer[0].block.unit[Unit]_document': 'nge Commission, granting unto said attorneys-in-fact and agents,\\n\\nand each of them, full power and authority to do and perform each and every act and thing requisite and necessary to be done in connection therewith, as fully to all intents and\\npurposes as he or she might or could do in person, hereby ratifying and confirming all that said attorneys-in-fact and agents, or any of them, or their or his or her substitute or\\n\\nsubstitutes, may lawfully do or cause to be done by virtue hereof.\\n\\n\\n**Signature** **Title** **Date**\\n\\n\\n/s/Lisa T. Su President and Chief Executive Officer, Director February 27, 2023\\n\\n\\nLisa T. Su\\n\\n\\n/s/Jean Hu Executive Vice President, Chief Financial Officer and Treasurer February 27, 2023\\n\\n\\nJean Hu\\n\\n\\n/s/Darla Smith Corporate Vice President, Chief Accounting Officer February 27, 2023\\n\\n\\nDarla Smith\\n\\n\\n/s/Nora M. Denzel Lead Independent Director February 9, 2023\\n\\n\\nNora M. Denzel\\n\\n\\n/s/Mark Durcan Director February 10, 2023\\n\\n\\nMark Durcan\\n\\n\\n/s/Mike P. Gregoire Director February 3, 2023\\n\\n\\nMike P. Gregoire\\n\\n\\n/s/Joe A. Householder Director February 9, 2023\\n\\n\\nJoe A. Householder\\n\\n\\n/s/John W. Marren Director February 10, 2023\\n\\n\\nJohn W. Marren\\n\\n\\n/s/Jon A. Olson Director February 9, 2023\\n\\n\\nJon A. Olson\\n\\n\\n/s/Abhi Y. Talwalkar Director February 4, 2023\\n\\n\\nAbhi Y. Talwalkar\\n\\n\\n/s/Beth W. Vanderslice Director February 10, 2023\\n\\n\\nBeth W. Vanderslice\\n\\n\\nExhibit 31.1\\n\\n\\n**Certification of Chief Executive Officer**\\n\\n**Pursuant to Section 302 of the Sarbanes-Oxley Act of 2002**\\n\\n\\nI, Lisa T. Su, certify that:\\n\\n\\n1.  I have reviewed this annual report on Form 10-K of Advanced Micro Devices, Inc. (the “Company”);\\n\\n\\n2.  Based on my knowledge, this report does not contain any untrue statement of a material fact or omit to state a material fact necessary to make\\nthe statements made, in light of the circumstances under which such statements were made, not misleading with respect to the period covered by\\nthis report;\\n\\n\\n3.  Based on my knowledge, the financial statements, and other financial information included in this report, fairly present in all material respects\\nthe financial condition, results of operations and cash flows of the Company as of, and for, the periods presented in this report;\\n\\n\\n4.  The Company’s other certifying officer and I are responsible for establishing and maintaining disclosure controls and procedures (as defined\\nin Exchange Act Rules 13a-15(e) and 15d-15(e)) and internal control over financial reporting (as defined in Exchange Act Rules 13a-15(f) and\\n15d-15(f)) for the Company and have:\\n\\n\\na)  designed such disclosure controls and procedures, or caused such disclosure controls and procedures to be designed under our supervision,\\nto ensure that material information relating to the Company, including its consolidated subsidiaries, is made known to us by others within those\\nentities, particularly during the period in which this report is being prepared;\\n\\n\\nb)  designed such internal control over financial reporting, or caused such internal control over financial reporting to be designed under our\\nsupervision, to provide reasonable assurance regarding the reliability of financial reporting and the preparation of financial statements for external\\npurposes in accordance with generally accepted accounting principles;\\n\\n\\nc)  evaluated the effectiveness of the Company’s disclosure controls and procedures and presented in this report our conclusions about the\\neffectiveness of the disclosure controls and procedures, as of the end of the period covered by this report based on such evaluation; and\\n\\n\\nd)  disclosed in this report any change in the Company’s internal control over financial reporting that occurred during the Company’s most\\nrecent fiscal quarter (the Company’s fourth fiscal quarter in the case of an annual report) that has materially affected, or is reasonably likely to\\nmaterially affect, the Company’s internal control over financial reporting;\\n\\n\\n5.  The Company’s other certifying officer and I have disclosed, based on our most recent evaluation of internal control over financial reporting,\\nto the Company’s auditors and the audit committee of the Company’s board of directors (or persons performing the equivalent functions):\\n\\n\\na)  all significant deficiencies and material weaknesses in the design or operation of internal control over financial reporting which are\\nreasonably likely to adversely affect the Company’s ability to record, process, summarize and report financial information; and\\n\\n\\nb)   any fraud, whether or not material, that involves management or other employees who have a significant role in the Company’s internal\\ncontrol over financial reporting.\\n\\n\\nDate:  February 27, 2023\\n\\n\\n_/s/Lisa T. Su_\\n\\nLisa T. Su\\nChair, President and Chief Executive Officer\\n(Principal Executive Officer)\\n\\n\\nExhibit 31.2\\n\\n\\n**Certification of Chief Financial Officer**\\n\\n**Pursuant to Section 302 of the Sarbanes-Oxley Act of 2002**\\n\\n\\nI, Jean Hu, certify that:\\n\\n\\n1.  I have reviewed this annual report on Form 10-K of Advanced Micro Devices, Inc. (the “Company”);\\n\\n\\n2.  Based on my knowledge, this report does not contain any untrue statement of a material fact or omit to state a material fact necessary to make\\nthe statements made, in light of the circumstances under which such statements were made, not misleading with respect to the period covered by\\nthis report;\\n\\n\\n3.  Based on my knowledge, the financial statements, and other financial information included in this report, fairly present in all material respects\\nthe financial condition, results of operations and cash flows of the Company as of, and for, the periods presented in this report;\\n\\n\\n4.  The Company’s other certifying officer and I are responsible for establishing and maintaining disclosure controls and procedures (as defined\\nin Exchange Act Rules 13a-15(e) and 15d-15(e)) and internal control over financial reporting (as defined in Exchange Act Rules 13a-15(f) and\\n15d-15(f)) for the Company and have:\\n\\n\\na)  designed such disclosure controls and procedures, or caused such disclosure controls and procedures to be designed under our supervision,\\nto ensure that material information relating to the Company, including its consolidated subsidiaries, is made known to us by others within those\\nentities, particularly during the period in which this report is being prepared;\\n\\n\\nb)  designed such internal control over financial reporting, or caused such internal control over financial reporting to be designed under our\\nsupervision, to provide reasonable assurance regarding the reliability of financial reporting and the preparation of financial statements for external\\npurposes in accordance with generally accepted accounting principles;\\n\\n\\nc)  evaluated the effectiveness of the Company’s disclosure controls and procedures and presented in this report our conclusions about the\\neffectiveness of the disclosure controls and procedures, as of the end of the period covered by this report based on such evaluation; and\\n\\n\\nd)  disclosed in this report any change in the Company’s internal control over financial reporting that occurred during the Company’s most\\nrecent fiscal quarter (the Company’s fourth fiscal quarter in the case of an annual report) that has materially affected, or is reasonably likely to\\nmaterially affect, the Company’s internal control over financial reporting;\\n\\n\\n5.  The Company’s other certifying officer and I have disclosed, based on our most recent evaluation of internal control over financial reporting,\\nto the Company’s auditors and the audit committee of the Company’s board of directors (or persons performing the equivalent functions):\\n\\n\\na)  all significant deficiencies and material weaknesses in the design or operation of internal control over financial reporting which are\\nreasonably likely to adversely affect the Company’s ability to record, process, summarize and report financial information; and\\n\\n\\nb)   any fraud, whether or not material, that involves management or other employees who have a significant role in the Company’s internal\\ncontrol over financial reporting.\\n\\n\\nDate:  February 27, 2023\\n\\n\\n_/s/Jean Hu_\\n\\nJean Hu\\nExecutive Vice President,\\nChief Financial Officer and Treasurer\\n(Principal Financial Officer)\\n\\n\\nExhibit 32.1\\n\\n\\n**Certification of Principal Executive Officer Pursuant to Section 906 of the Sarbanes-Oxley Act of 2002**\\n\\n\\nPursuant to 18 U.S.C. § 1350, as adopted pursuant to Section 906 of the Sarbanes-Oxley Act of 2002, the undersigned officer of Advanced Micro\\nDevices, Inc. (the \"Company\") hereby certifies, to such officer\\'s knowledge, that:\\n\\n\\n(i.) the Annual Report on Form 10-K of the Company for the period ended December 31, 2022 (the \"Report\") fully complies with the\\nrequirements of Section 13(a) or Section 15(d), as applicable, of the Securities Exchange Act of 1934, as amended; and\\n(ii.) the information contained in the Report fairly presents, in all material respects, the financial condition and results of operations of the\\nCompany.\\n\\n\\nDate:  February 27, 2023\\n\\n\\n_/s/Lisa T. Su_\\n\\nLisa T. Su\\nChair, President and Chief Executive Officer\\n(Principal Executive Officer)\\n\\n\\nExhibit 32.2\\n\\n\\n**Certification of Principal Financial Officer Pursuant to Section 906 of the Sarbanes-Oxley Act of 2002**\\n\\n\\nPursuant to 18 U.S.C. § 1350, as adopted pursuant to Section 906 of the Sarbanes-Oxley Act of 2002, the undersigned officer of Advanced Micro\\nDevices, Inc. (the \"Company\") hereby certifies, to such officer\\'s knowledge, that:\\n\\n\\n(i.) the Annual Report on Form 10-K of the Company for the period ended December 31, 2022 (the \"Report\") fully complies with the\\nrequirements of Section 13(a) or Section 15(d), as applicable, of the Securities Exchange Act of 1934, as amended; and\\n\\n\\n(ii.) the information contained in the Report fairly presents, in all material respects, the financial condition and results of operations of the\\nCompany.\\n\\n\\nDate:  February 27, 2023\\n\\n\\n_/s/Jean Hu_\\n\\nJean Hu\\nExecutive Vice President,\\nChief Financial Officer and Treasurer\\n(Principal Financial Officer)\\n\\n\\n'},\n",
       "  ['GenConvoBench-factual_root.block.layer[0].block.unit[Unit].block.unit[Unit]_answer']),\n",
       " 'total_questions': 1}"
      ]
     },
     "execution_count": 5,
     "metadata": {},
     "output_type": "execute_result"
    }
   ],
   "source": [
    "results"
   ]
  },
  {
   "cell_type": "code",
   "execution_count": null,
   "id": "74309ba2-5c57-4787-ac77-4d34cb348dd6",
   "metadata": {},
   "outputs": [],
   "source": []
  }
 ],
 "metadata": {
  "kernelspec": {
   "display_name": "Python (uv genconvo)",
   "language": "python",
   "name": "genconvo-uv"
  },
  "language_info": {
   "codemirror_mode": {
    "name": "ipython",
    "version": 3
   },
   "file_extension": ".py",
   "mimetype": "text/x-python",
   "name": "python",
   "nbconvert_exporter": "python",
   "pygments_lexer": "ipython3",
   "version": "3.12.11"
  }
 },
 "nbformat": 4,
 "nbformat_minor": 5
}
